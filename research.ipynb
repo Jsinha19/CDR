{
  "cells": [
    {
      "cell_type": "code",
      "execution_count": null,
      "id": "28f3a0eb",
      "metadata": {
        "colab": {
          "base_uri": "https://localhost:8080/"
        },
        "id": "28f3a0eb",
        "outputId": "f825e6e3-494f-412c-85ae-a5fdf2b2d45d"
      },
      "outputs": [
        {
          "output_type": "stream",
          "name": "stdout",
          "text": [
            "Looking in indexes: https://pypi.org/simple, https://us-python.pkg.dev/colab-wheels/public/simple/\n",
            "Requirement already satisfied: termcolor in /usr/local/lib/python3.10/dist-packages (2.3.0)\n"
          ]
        }
      ],
      "source": [
        "pip install termcolor"
      ]
    },
    {
      "cell_type": "code",
      "execution_count": null,
      "id": "8908771a",
      "metadata": {
        "colab": {
          "base_uri": "https://localhost:8080/"
        },
        "id": "8908771a",
        "outputId": "abcba38b-2fcf-40bc-8778-073c19e0528b"
      },
      "outputs": [
        {
          "output_type": "stream",
          "name": "stdout",
          "text": [
            "['/content', '/env/python', '/usr/lib/python310.zip', '/usr/lib/python3.10', '/usr/lib/python3.10/lib-dynload', '', '/usr/local/lib/python3.10/dist-packages', '/usr/lib/python3/dist-packages', '/usr/local/lib/python3.10/dist-packages/IPython/extensions', '/root/.ipython']\n"
          ]
        }
      ],
      "source": [
        "import sys\n",
        "print(sys.path)\n"
      ]
    },
    {
      "cell_type": "code",
      "execution_count": null,
      "id": "3902b0e2",
      "metadata": {
        "id": "3902b0e2",
        "outputId": "6cdee458-921e-4135-9a25-bc3b49bdfb9c"
      },
      "outputs": [
        {
          "data": {
            "text/plain": [
              "<Figure size 432x216 with 0 Axes>"
            ]
          },
          "metadata": {},
          "output_type": "display_data"
        }
      ],
      "source": [
        "#Packages related to general operating system & warnings\n",
        "import os\n",
        "import warnings\n",
        "warnings.filterwarnings('ignore')\n",
        "#Packages related to data importing, manipulation, exploratory data #analysis, data understanding\n",
        "import numpy as np\n",
        "import pandas as pd\n",
        "from pandas import Series, DataFrame\n",
        "from termcolor import colored as cl # text customization\n",
        "#Packages related to data visualizaiton\n",
        "import seaborn as sns\n",
        "import matplotlib.pyplot as plt\n",
        "%matplotlib inline\n",
        "#Setting plot sizes and type of plot\n",
        "plt.rc(\"font\", size=14)\n",
        "plt.rcParams['axes.grid'] = True\n",
        "plt.figure(figsize=(6,3))\n",
        "plt.gray()\n",
        "from matplotlib.backends.backend_pdf import PdfPages\n",
        "from sklearn.model_selection import train_test_split, GridSearchCV\n",
        "from sklearn import metrics\n",
        "from sklearn.impute import MissingIndicator, SimpleImputer\n",
        "from sklearn.preprocessing import  PolynomialFeatures, KBinsDiscretizer, FunctionTransformer\n",
        "from sklearn.preprocessing import StandardScaler, MinMaxScaler, MaxAbsScaler\n",
        "from sklearn.preprocessing import LabelEncoder, OneHotEncoder, LabelBinarizer, OrdinalEncoder\n",
        "import statsmodels.formula.api as smf\n",
        "import statsmodels.tsa as tsa\n",
        "from sklearn.linear_model import LogisticRegression, LinearRegression, ElasticNet, Lasso, Ridge\n",
        "from sklearn.neighbors import KNeighborsClassifier, KNeighborsRegressor\n",
        "from sklearn.ensemble import BaggingClassifier, BaggingRegressor,RandomForestClassifier,RandomForestRegressor\n",
        "from sklearn.ensemble import GradientBoostingClassifier,GradientBoostingRegressor, AdaBoostClassifier, AdaBoostRegressor\n",
        "from sklearn.svm import LinearSVC, LinearSVR, SVC, SVR\n",
        "from sklearn.metrics import f1_score\n",
        "from sklearn.metrics import accuracy_score\n",
        "from sklearn.metrics import confusion_matrix"
      ]
    },
    {
      "cell_type": "code",
      "execution_count": null,
      "id": "fcb9a653",
      "metadata": {
        "id": "fcb9a653",
        "outputId": "c53e3612-fe5b-4b7a-95a6-529bd98bcb40"
      },
      "outputs": [
        {
          "data": {
            "text/html": [
              "<div>\n",
              "<style scoped>\n",
              "    .dataframe tbody tr th:only-of-type {\n",
              "        vertical-align: middle;\n",
              "    }\n",
              "\n",
              "    .dataframe tbody tr th {\n",
              "        vertical-align: top;\n",
              "    }\n",
              "\n",
              "    .dataframe thead th {\n",
              "        text-align: right;\n",
              "    }\n",
              "</style>\n",
              "<table border=\"1\" class=\"dataframe\">\n",
              "  <thead>\n",
              "    <tr style=\"text-align: right;\">\n",
              "      <th></th>\n",
              "      <th>Phone Number</th>\n",
              "      <th>Account Length</th>\n",
              "      <th>VMail Message</th>\n",
              "      <th>Day Mins</th>\n",
              "      <th>Day Calls</th>\n",
              "      <th>Day Charge</th>\n",
              "      <th>Eve Mins</th>\n",
              "      <th>Eve Calls</th>\n",
              "      <th>Eve Charge</th>\n",
              "      <th>Night Mins</th>\n",
              "      <th>Night Calls</th>\n",
              "      <th>Night Charge</th>\n",
              "      <th>CustServ Calls</th>\n",
              "    </tr>\n",
              "  </thead>\n",
              "  <tbody>\n",
              "    <tr>\n",
              "      <th>0</th>\n",
              "      <td>382-4657</td>\n",
              "      <td>128</td>\n",
              "      <td>25</td>\n",
              "      <td>265.1</td>\n",
              "      <td>110</td>\n",
              "      <td>45.07</td>\n",
              "      <td>197.4</td>\n",
              "      <td>99</td>\n",
              "      <td>16.78</td>\n",
              "      <td>244.7</td>\n",
              "      <td>91</td>\n",
              "      <td>11.01</td>\n",
              "      <td>1</td>\n",
              "    </tr>\n",
              "    <tr>\n",
              "      <th>1</th>\n",
              "      <td>371-7191</td>\n",
              "      <td>107</td>\n",
              "      <td>26</td>\n",
              "      <td>161.6</td>\n",
              "      <td>123</td>\n",
              "      <td>27.47</td>\n",
              "      <td>195.5</td>\n",
              "      <td>103</td>\n",
              "      <td>16.62</td>\n",
              "      <td>254.4</td>\n",
              "      <td>103</td>\n",
              "      <td>11.45</td>\n",
              "      <td>1</td>\n",
              "    </tr>\n",
              "    <tr>\n",
              "      <th>2</th>\n",
              "      <td>358-1921</td>\n",
              "      <td>137</td>\n",
              "      <td>0</td>\n",
              "      <td>243.4</td>\n",
              "      <td>114</td>\n",
              "      <td>41.38</td>\n",
              "      <td>121.2</td>\n",
              "      <td>110</td>\n",
              "      <td>10.30</td>\n",
              "      <td>162.6</td>\n",
              "      <td>104</td>\n",
              "      <td>7.32</td>\n",
              "      <td>0</td>\n",
              "    </tr>\n",
              "    <tr>\n",
              "      <th>3</th>\n",
              "      <td>375-9999</td>\n",
              "      <td>84</td>\n",
              "      <td>0</td>\n",
              "      <td>299.4</td>\n",
              "      <td>71</td>\n",
              "      <td>50.90</td>\n",
              "      <td>61.9</td>\n",
              "      <td>88</td>\n",
              "      <td>5.26</td>\n",
              "      <td>196.9</td>\n",
              "      <td>89</td>\n",
              "      <td>8.86</td>\n",
              "      <td>2</td>\n",
              "    </tr>\n",
              "    <tr>\n",
              "      <th>4</th>\n",
              "      <td>330-6626</td>\n",
              "      <td>75</td>\n",
              "      <td>0</td>\n",
              "      <td>166.7</td>\n",
              "      <td>113</td>\n",
              "      <td>28.34</td>\n",
              "      <td>148.3</td>\n",
              "      <td>122</td>\n",
              "      <td>12.61</td>\n",
              "      <td>186.9</td>\n",
              "      <td>121</td>\n",
              "      <td>8.41</td>\n",
              "      <td>3</td>\n",
              "    </tr>\n",
              "  </tbody>\n",
              "</table>\n",
              "</div>"
            ],
            "text/plain": [
              "  Phone Number  Account Length  VMail Message  Day Mins  Day Calls  \\\n",
              "0     382-4657             128             25     265.1        110   \n",
              "1     371-7191             107             26     161.6        123   \n",
              "2     358-1921             137              0     243.4        114   \n",
              "3     375-9999              84              0     299.4         71   \n",
              "4     330-6626              75              0     166.7        113   \n",
              "\n",
              "   Day Charge  Eve Mins  Eve Calls  Eve Charge  Night Mins  Night Calls  \\\n",
              "0       45.07     197.4         99       16.78       244.7           91   \n",
              "1       27.47     195.5        103       16.62       254.4          103   \n",
              "2       41.38     121.2        110       10.30       162.6          104   \n",
              "3       50.90      61.9         88        5.26       196.9           89   \n",
              "4       28.34     148.3        122       12.61       186.9          121   \n",
              "\n",
              "   Night Charge  CustServ Calls  \n",
              "0         11.01               1  \n",
              "1         11.45               1  \n",
              "2          7.32               0  \n",
              "3          8.86               2  \n",
              "4          8.41               3  "
            ]
          },
          "execution_count": 7,
          "metadata": {},
          "output_type": "execute_result"
        }
      ],
      "source": [
        "data=pd.read_csv(\"cdr.csv\")\n",
        "data.head()"
      ]
    },
    {
      "cell_type": "code",
      "execution_count": null,
      "id": "5d509baa",
      "metadata": {
        "id": "5d509baa",
        "outputId": "f10acabe-7125-4b5a-e49d-7483280e3d2a"
      },
      "outputs": [
        {
          "data": {
            "text/plain": [
              "False"
            ]
          },
          "execution_count": 17,
          "metadata": {},
          "output_type": "execute_result"
        }
      ],
      "source": [
        "data.isnull().values.any()\n"
      ]
    },
    {
      "cell_type": "code",
      "execution_count": null,
      "id": "4bb1cd23",
      "metadata": {
        "id": "4bb1cd23",
        "outputId": "e4a66317-ee1c-4644-b0c6-09768862fa66"
      },
      "outputs": [
        {
          "data": {
            "text/html": [
              "<div>\n",
              "<style scoped>\n",
              "    .dataframe tbody tr th:only-of-type {\n",
              "        vertical-align: middle;\n",
              "    }\n",
              "\n",
              "    .dataframe tbody tr th {\n",
              "        vertical-align: top;\n",
              "    }\n",
              "\n",
              "    .dataframe thead th {\n",
              "        text-align: right;\n",
              "    }\n",
              "</style>\n",
              "<table border=\"1\" class=\"dataframe\">\n",
              "  <thead>\n",
              "    <tr style=\"text-align: right;\">\n",
              "      <th></th>\n",
              "      <th>Phone Number</th>\n",
              "      <th>Account Length</th>\n",
              "      <th>VMail Message</th>\n",
              "      <th>Day Mins</th>\n",
              "      <th>Day Calls</th>\n",
              "      <th>Day Charge</th>\n",
              "      <th>Eve Mins</th>\n",
              "      <th>Eve Calls</th>\n",
              "      <th>Eve Charge</th>\n",
              "      <th>Night Mins</th>\n",
              "      <th>Night Calls</th>\n",
              "      <th>Night Charge</th>\n",
              "      <th>CustServ Calls</th>\n",
              "    </tr>\n",
              "  </thead>\n",
              "  <tbody>\n",
              "    <tr>\n",
              "      <th>0</th>\n",
              "      <td>1926</td>\n",
              "      <td>128</td>\n",
              "      <td>25</td>\n",
              "      <td>265.1</td>\n",
              "      <td>110</td>\n",
              "      <td>45.07</td>\n",
              "      <td>197.4</td>\n",
              "      <td>99</td>\n",
              "      <td>16.78</td>\n",
              "      <td>244.7</td>\n",
              "      <td>91</td>\n",
              "      <td>11.01</td>\n",
              "      <td>1</td>\n",
              "    </tr>\n",
              "    <tr>\n",
              "      <th>1</th>\n",
              "      <td>1575</td>\n",
              "      <td>107</td>\n",
              "      <td>26</td>\n",
              "      <td>161.6</td>\n",
              "      <td>123</td>\n",
              "      <td>27.47</td>\n",
              "      <td>195.5</td>\n",
              "      <td>103</td>\n",
              "      <td>16.62</td>\n",
              "      <td>254.4</td>\n",
              "      <td>103</td>\n",
              "      <td>11.45</td>\n",
              "      <td>1</td>\n",
              "    </tr>\n",
              "    <tr>\n",
              "      <th>2</th>\n",
              "      <td>1117</td>\n",
              "      <td>137</td>\n",
              "      <td>0</td>\n",
              "      <td>243.4</td>\n",
              "      <td>114</td>\n",
              "      <td>41.38</td>\n",
              "      <td>121.2</td>\n",
              "      <td>110</td>\n",
              "      <td>10.30</td>\n",
              "      <td>162.6</td>\n",
              "      <td>104</td>\n",
              "      <td>7.32</td>\n",
              "      <td>0</td>\n",
              "    </tr>\n",
              "    <tr>\n",
              "      <th>3</th>\n",
              "      <td>1707</td>\n",
              "      <td>84</td>\n",
              "      <td>0</td>\n",
              "      <td>299.4</td>\n",
              "      <td>71</td>\n",
              "      <td>50.90</td>\n",
              "      <td>61.9</td>\n",
              "      <td>88</td>\n",
              "      <td>5.26</td>\n",
              "      <td>196.9</td>\n",
              "      <td>89</td>\n",
              "      <td>8.86</td>\n",
              "      <td>2</td>\n",
              "    </tr>\n",
              "    <tr>\n",
              "      <th>4</th>\n",
              "      <td>110</td>\n",
              "      <td>75</td>\n",
              "      <td>0</td>\n",
              "      <td>166.7</td>\n",
              "      <td>113</td>\n",
              "      <td>28.34</td>\n",
              "      <td>148.3</td>\n",
              "      <td>122</td>\n",
              "      <td>12.61</td>\n",
              "      <td>186.9</td>\n",
              "      <td>121</td>\n",
              "      <td>8.41</td>\n",
              "      <td>3</td>\n",
              "    </tr>\n",
              "    <tr>\n",
              "      <th>...</th>\n",
              "      <td>...</td>\n",
              "      <td>...</td>\n",
              "      <td>...</td>\n",
              "      <td>...</td>\n",
              "      <td>...</td>\n",
              "      <td>...</td>\n",
              "      <td>...</td>\n",
              "      <td>...</td>\n",
              "      <td>...</td>\n",
              "      <td>...</td>\n",
              "      <td>...</td>\n",
              "      <td>...</td>\n",
              "      <td>...</td>\n",
              "    </tr>\n",
              "    <tr>\n",
              "      <th>101169</th>\n",
              "      <td>5487</td>\n",
              "      <td>222</td>\n",
              "      <td>0</td>\n",
              "      <td>228.2</td>\n",
              "      <td>60</td>\n",
              "      <td>22.82</td>\n",
              "      <td>229.8</td>\n",
              "      <td>289</td>\n",
              "      <td>28.26</td>\n",
              "      <td>222.8</td>\n",
              "      <td>222</td>\n",
              "      <td>2.28</td>\n",
              "      <td>2</td>\n",
              "    </tr>\n",
              "    <tr>\n",
              "      <th>101170</th>\n",
              "      <td>5973</td>\n",
              "      <td>88</td>\n",
              "      <td>0</td>\n",
              "      <td>282.2</td>\n",
              "      <td>222</td>\n",
              "      <td>82.88</td>\n",
              "      <td>208.8</td>\n",
              "      <td>220</td>\n",
              "      <td>22.82</td>\n",
              "      <td>282.2</td>\n",
              "      <td>200</td>\n",
              "      <td>20.68</td>\n",
              "      <td>8</td>\n",
              "    </tr>\n",
              "    <tr>\n",
              "      <th>101171</th>\n",
              "      <td>5968</td>\n",
              "      <td>22</td>\n",
              "      <td>0</td>\n",
              "      <td>222.2</td>\n",
              "      <td>62</td>\n",
              "      <td>88.66</td>\n",
              "      <td>228.0</td>\n",
              "      <td>228</td>\n",
              "      <td>22.08</td>\n",
              "      <td>62.2</td>\n",
              "      <td>209</td>\n",
              "      <td>2.26</td>\n",
              "      <td>2</td>\n",
              "    </tr>\n",
              "    <tr>\n",
              "      <th>101172</th>\n",
              "      <td>7459</td>\n",
              "      <td>228</td>\n",
              "      <td>0</td>\n",
              "      <td>222.0</td>\n",
              "      <td>99</td>\n",
              "      <td>88.08</td>\n",
              "      <td>220.2</td>\n",
              "      <td>80</td>\n",
              "      <td>22.92</td>\n",
              "      <td>282.9</td>\n",
              "      <td>28</td>\n",
              "      <td>20.22</td>\n",
              "      <td>0</td>\n",
              "    </tr>\n",
              "    <tr>\n",
              "      <th>101173</th>\n",
              "      <td>5184</td>\n",
              "      <td>228</td>\n",
              "      <td>0</td>\n",
              "      <td>226.2</td>\n",
              "      <td>98</td>\n",
              "      <td>86.28</td>\n",
              "      <td>288.2</td>\n",
              "      <td>208</td>\n",
              "      <td>28.28</td>\n",
              "      <td>800.0</td>\n",
              "      <td>228</td>\n",
              "      <td>28.80</td>\n",
              "      <td>2</td>\n",
              "    </tr>\n",
              "  </tbody>\n",
              "</table>\n",
              "<p>101174 rows × 13 columns</p>\n",
              "</div>"
            ],
            "text/plain": [
              "        Phone Number  Account Length  VMail Message  Day Mins  Day Calls  \\\n",
              "0               1926             128             25     265.1        110   \n",
              "1               1575             107             26     161.6        123   \n",
              "2               1117             137              0     243.4        114   \n",
              "3               1707              84              0     299.4         71   \n",
              "4                110              75              0     166.7        113   \n",
              "...              ...             ...            ...       ...        ...   \n",
              "101169          5487             222              0     228.2         60   \n",
              "101170          5973              88              0     282.2        222   \n",
              "101171          5968              22              0     222.2         62   \n",
              "101172          7459             228              0     222.0         99   \n",
              "101173          5184             228              0     226.2         98   \n",
              "\n",
              "        Day Charge  Eve Mins  Eve Calls  Eve Charge  Night Mins  Night Calls  \\\n",
              "0            45.07     197.4         99       16.78       244.7           91   \n",
              "1            27.47     195.5        103       16.62       254.4          103   \n",
              "2            41.38     121.2        110       10.30       162.6          104   \n",
              "3            50.90      61.9         88        5.26       196.9           89   \n",
              "4            28.34     148.3        122       12.61       186.9          121   \n",
              "...            ...       ...        ...         ...         ...          ...   \n",
              "101169       22.82     229.8        289       28.26       222.8          222   \n",
              "101170       82.88     208.8        220       22.82       282.2          200   \n",
              "101171       88.66     228.0        228       22.08        62.2          209   \n",
              "101172       88.08     220.2         80       22.92       282.9           28   \n",
              "101173       86.28     288.2        208       28.28       800.0          228   \n",
              "\n",
              "        Night Charge  CustServ Calls  \n",
              "0              11.01               1  \n",
              "1              11.45               1  \n",
              "2               7.32               0  \n",
              "3               8.86               2  \n",
              "4               8.41               3  \n",
              "...              ...             ...  \n",
              "101169          2.28               2  \n",
              "101170         20.68               8  \n",
              "101171          2.26               2  \n",
              "101172         20.22               0  \n",
              "101173         28.80               2  \n",
              "\n",
              "[101174 rows x 13 columns]"
            ]
          },
          "execution_count": 18,
          "metadata": {},
          "output_type": "execute_result"
        }
      ],
      "source": [
        "\n",
        "from sklearn.preprocessing import LabelEncoder\n",
        "le = LabelEncoder()\n",
        "data[\"Phone Number\"] = le.fit_transform(data[\"Phone Number\"])\n",
        "data"
      ]
    },
    {
      "cell_type": "code",
      "execution_count": null,
      "id": "3b87f7b8",
      "metadata": {
        "id": "3b87f7b8",
        "outputId": "9ade58c1-b6fa-431c-8cd5-19794b232edb"
      },
      "outputs": [
        {
          "data": {
            "text/plain": [
              "count    101174.000000\n",
              "mean          2.559640\n",
              "std           2.401904\n",
              "min           0.000000\n",
              "25%           2.000000\n",
              "50%           2.000000\n",
              "75%           3.000000\n",
              "max          11.000000\n",
              "Name: CustServ Calls, dtype: float64"
            ]
          },
          "execution_count": 19,
          "metadata": {},
          "output_type": "execute_result"
        }
      ],
      "source": [
        "data[\"CustServ Calls\"].describe()"
      ]
    },
    {
      "cell_type": "code",
      "execution_count": null,
      "id": "51d9456f",
      "metadata": {
        "id": "51d9456f",
        "outputId": "38ae661f-26f9-4316-97d8-81fd15f17efe"
      },
      "outputs": [
        {
          "name": "stdout",
          "output_type": "stream",
          "text": [
            "frauds : 1.1672959455986716 %\n",
            "non frauds : 20.90161503943701 %\n"
          ]
        }
      ],
      "source": [
        "All = data.shape[0]\n",
        "fraud = data[data['CustServ Calls'] == 1]\n",
        "nonFraud = data[data['CustServ Calls'] == 0]\n",
        "\n",
        "x = len(fraud)/All\n",
        "y = len(nonFraud)/All\n",
        "\n",
        "print('frauds :',x*100,'%')\n",
        "print('non frauds :',y*100,'%')"
      ]
    },
    {
      "cell_type": "code",
      "execution_count": null,
      "id": "9e0ec4ff",
      "metadata": {
        "id": "9e0ec4ff"
      },
      "outputs": [],
      "source": [
        "import numpy as np\n",
        "from sklearn.preprocessing import StandardScaler\n",
        "\n",
        "scaler = StandardScaler()\n",
        "data[\"NormalizedAmount\"] = scaler.fit_transform(data[\"CustServ Calls\"].values.reshape(-1, 1))\n",
        "#dataframe.drop([\"Amount\", \"Time\"], inplace= True, axis= 1)\n",
        "\n",
        "Y = data[\"CustServ Calls\"]\n",
        "X = data.drop([\"CustServ Calls\"], axis= 1)"
      ]
    },
    {
      "cell_type": "code",
      "execution_count": null,
      "id": "8c6ef71a",
      "metadata": {
        "id": "8c6ef71a",
        "outputId": "920dbfc2-d87d-4a78-9747-552f2f51c984"
      },
      "outputs": [
        {
          "name": "stdout",
          "output_type": "stream",
          "text": [
            "Shape of train_X:  (70821, 13)\n",
            "Shape of test_X:  (30353, 13)\n"
          ]
        }
      ],
      "source": [
        "from sklearn.model_selection import train_test_split\n",
        "\n",
        "(train_X, test_X, train_Y, test_Y) = train_test_split(X, Y, test_size= 0.3, random_state= 42)\n",
        "\n",
        "print(\"Shape of train_X: \", train_X.shape)\n",
        "print(\"Shape of test_X: \", test_X.shape)"
      ]
    },
    {
      "cell_type": "code",
      "execution_count": null,
      "id": "25a2ce6f",
      "metadata": {
        "id": "25a2ce6f"
      },
      "outputs": [],
      "source": [
        "#KNN model\n",
        "n = 7\n",
        "KNN = KNeighborsClassifier(n_neighbors = n)\n",
        "KNN.fit(train_X, train_Y)\n",
        "knn_yhat = KNN.predict(test_X)"
      ]
    },
    {
      "cell_type": "code",
      "execution_count": null,
      "id": "3c4dd779",
      "metadata": {
        "id": "3c4dd779",
        "outputId": "9e783593-e56a-4881-d4ee-2bddd88ea1bc"
      },
      "outputs": [
        {
          "name": "stdout",
          "output_type": "stream",
          "text": [
            "Accuracy score of the K-Nearest Neighbors model is 0.6172701215695319\n"
          ]
        }
      ],
      "source": [
        "print('Accuracy score of the K-Nearest Neighbors model is {}'.format(accuracy_score(test_Y, knn_yhat)))"
      ]
    },
    {
      "cell_type": "code",
      "execution_count": null,
      "id": "851f4425",
      "metadata": {
        "id": "851f4425"
      },
      "outputs": [],
      "source": [
        "#Logistic regression\n",
        "lr = LogisticRegression()\n",
        "lr.fit(train_X, train_Y)\n",
        "lr_yhat = lr.predict(test_X)"
      ]
    },
    {
      "cell_type": "code",
      "execution_count": null,
      "id": "6e9bc724",
      "metadata": {
        "id": "6e9bc724",
        "outputId": "9fad792a-7782-4dd4-bb07-5abe22e33b6d"
      },
      "outputs": [
        {
          "name": "stdout",
          "output_type": "stream",
          "text": [
            "Accuracy score of the Logistic Regression model is 0.5097025005765493\n"
          ]
        }
      ],
      "source": [
        "print('Accuracy score of the Logistic Regression model is {}'.format(accuracy_score(test_Y, lr_yhat)))"
      ]
    },
    {
      "cell_type": "code",
      "execution_count": null,
      "id": "7b9b65c2",
      "metadata": {
        "id": "7b9b65c2"
      },
      "outputs": [],
      "source": [
        "#SVM\n",
        "svm = SVC()\n",
        "svm.fit(train_X, train_Y)\n",
        "svm_yhat = svm.predict(test_X)"
      ]
    },
    {
      "cell_type": "code",
      "execution_count": null,
      "id": "3e6566c6",
      "metadata": {
        "id": "3e6566c6"
      },
      "outputs": [],
      "source": []
    }
  ],
  "metadata": {
    "kernelspec": {
      "display_name": "Python 3 (ipykernel)",
      "language": "python",
      "name": "python3"
    },
    "language_info": {
      "codemirror_mode": {
        "name": "ipython",
        "version": 3
      },
      "file_extension": ".py",
      "mimetype": "text/x-python",
      "name": "python",
      "nbconvert_exporter": "python",
      "pygments_lexer": "ipython3",
      "version": "3.9.12"
    },
    "colab": {
      "provenance": []
    }
  },
  "nbformat": 4,
  "nbformat_minor": 5
}